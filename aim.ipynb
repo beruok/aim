{
 "cells": [
  {
   "cell_type": "code",
   "execution_count": null,
   "id": "e68df522",
   "metadata": {},
   "outputs": [],
   "source": [
    "# aim.py\n",
    "import pandas as pd\n",
    "import os\n",
    "\n",
    "# CSVファイルのパスを指定\n",
    "data_path = os.path.join(\"..\", \"data\", \"aim_20250417.csv\")\n",
    "\n",
    "# データ読み込み\n",
    "df = pd.read_csv(data_path)\n",
    "\n",
    "# 確認\n",
    "print(df.head(10))\n"
   ]
  }
 ],
 "metadata": {
  "language_info": {
   "name": "python"
  }
 },
 "nbformat": 4,
 "nbformat_minor": 5
}
